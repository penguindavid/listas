{
  "nbformat": 4,
  "nbformat_minor": 0,
  "metadata": {
    "colab": {
      "provenance": [],
      "authorship_tag": "ABX9TyOe4M+9KJBOJ/+2QMVAuvXq",
      "include_colab_link": true
    },
    "kernelspec": {
      "name": "python3",
      "display_name": "Python 3"
    },
    "language_info": {
      "name": "python"
    }
  },
  "cells": [
    {
      "cell_type": "markdown",
      "metadata": {
        "id": "view-in-github",
        "colab_type": "text"
      },
      "source": [
        "<a href=\"https://colab.research.google.com/github/penguindavid/listas/blob/main/diccionarios.ipynb\" target=\"_parent\"><img src=\"https://colab.research.google.com/assets/colab-badge.svg\" alt=\"Open In Colab\"/></a>"
      ]
    },
    {
      "cell_type": "markdown",
      "source": [
        "# Diccionarios\n",
        "\n",
        "- son datos estructurados, es decir, hacen referencia a una colecion de datos\n",
        "- son una coleccion desorenada de pares de datos de la forma clave: valor conocidos como elementos o items.\n",
        "- son mutables, por tanto una vez defindo un diccionario se le pueden agregar nuevo elementos, modificar o eliminar algunos de lo que ya tiene\n",
        "-tambuen se les conoce como mapas de hash o arreglos asociativos.\n",
        "- En python los diccionarios son de tipo dict y se utiliza la siguiente sintaxis para crear una variable de este tipo:\n",
        "\n",
        "``` nombre_dict = {clave1:valor1, clave2:valor2,...}```\n",
        "- cada item o elemento tiene la forma clave:valor\n",
        "- en cada item hay una clave y uno o mas valores. si se desconoce el valor se puede llenar con` None`\n",
        "- los elemntos en el diccionario se indexan por la clave.\n",
        "- las claves solo pueden ser datos inmutables\n",
        "- las claves no pueden repetirse dentro de un diccionario"
      ],
      "metadata": {
        "id": "TFA1JDN8pbtV"
      }
    },
    {
      "cell_type": "code",
      "source": [
        "# diccionario con clave tipo cadena\n",
        "\n",
        "num_meses = {'enero':1, 'febrero':2, 'marzo':3, 'abril':4, 'mayo':5, 'junio':6, 'julio':7, 'agosto':8, 'septiembre':9, 'octubre':10, 'noviembre':11, 'diciembre':12}\n",
        "print(num_meses)\n",
        "\n",
        "nombre_meses = {1:'enero', 2:'febrero', 3:'marzo', 4:'abril', 5:'mayo', 6:'junio', 7:'julio', 8:'agosto', 9:'septiembre', 10:'octubre', 11:'noviembre', 12:'diciembre'}\n",
        "print(nombre_meses)\n",
        "# diccionario con clave tipo cadena\n",
        "\n",
        "frutas = {\"manzana\":34, \"pera\" :45, \"uva\":23}\n",
        "print(frutas)\n",
        "\n",
        "# agregar elementos\n",
        "frutas[\"cereza\"]= 90\n",
        "print(frutas)\n",
        "\n",
        "# modificar un elemento\n",
        "frutas[\"cereza\"]=100\n",
        "print(frutas)\n",
        "\n",
        "# eliminar un elemento\n",
        "del frutas[\"cereza\"]\n",
        "print(frutas)\n",
        "\n",
        "# consultar valor da una clave\n",
        "\n",
        "print(\"el valor de manzana es: \", frutas[\"manzana\"])\n"
      ],
      "metadata": {
        "colab": {
          "base_uri": "https://localhost:8080/"
        },
        "id": "jzYhfu-4q4KF",
        "outputId": "c9c53bed-2d68-4ca3-8fe1-b191144bc049"
      },
      "execution_count": 17,
      "outputs": [
        {
          "output_type": "stream",
          "name": "stdout",
          "text": [
            "{'enero': 1, 'febrero': 2, 'marzo': 3, 'abril': 4, 'mayo': 5, 'junio': 6, 'julio': 7, 'agosto': 8, 'septiembre': 9, 'octubre': 10, 'noviembre': 11, 'diciembre': 12}\n",
            "{1: 'enero', 2: 'febrero', 3: 'marzo', 4: 'abril', 5: 'mayo', 6: 'junio', 7: 'julio', 8: 'agosto', 9: 'septiembre', 10: 'octubre', 11: 'noviembre', 12: 'diciembre'}\n",
            "{'manzana': 34, 'pera': 45, 'uva': 23}\n",
            "{'manzana': 34, 'pera': 45, 'uva': 23, 'cereza': 90}\n",
            "{'manzana': 34, 'pera': 45, 'uva': 23, 'cereza': 100}\n",
            "{'manzana': 34, 'pera': 45, 'uva': 23}\n",
            "el valor de manzana es:  34\n"
          ]
        }
      ]
    }
  ]
}