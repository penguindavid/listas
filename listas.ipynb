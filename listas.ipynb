{
  "nbformat": 4,
  "nbformat_minor": 0,
  "metadata": {
    "colab": {
      "provenance": [],
      "authorship_tag": "ABX9TyMARf7p8oIUsoB0L0WvHmqY",
      "include_colab_link": true
    },
    "kernelspec": {
      "name": "python3",
      "display_name": "Python 3"
    },
    "language_info": {
      "name": "python"
    }
  },
  "cells": [
    {
      "cell_type": "markdown",
      "metadata": {
        "id": "view-in-github",
        "colab_type": "text"
      },
      "source": [
        "<a href=\"https://colab.research.google.com/github/penguindavid/listas/blob/main/listas.ipynb\" target=\"_parent\"><img src=\"https://colab.research.google.com/assets/colab-badge.svg\" alt=\"Open In Colab\"/></a>"
      ]
    },
    {
      "cell_type": "markdown",
      "source": [
        "# listas\n",
        "\n",
        "-Una lista hace referencia a una coleccion de atos que pueden ser numeros,cadenas o algun otro tipo.\n",
        "\n",
        "- son colleciones ordenadas de datos lo que implica que importa el orden en el cual se encuentran sus elementos.\n",
        "\n",
        "-El primer elemento ocupa la posicion 0,el segundo el 1 y asi sucesivamente.\n",
        "\n",
        "-son mutables:una vez creada la lista, esta puede modificarse, se le pueden agregar o quitar elementos\n",
        "\n",
        "- En python estan presentadas por el tipo *list* y para definirlas se utiliza la siguient sintaxis:\n",
        "```nombre_lista = [valor1, valor2,...,valorn] ```\n",
        "\n",
        "- los elementos puden ser de cualquier tipo, incluso puede haber tipos iferentes en una misma lista.\n",
        "- tambien es posible crear el constructor list ```list()```"
      ],
      "metadata": {
        "id": "syr0N3t5Ch8J"
      }
    },
    {
      "cell_type": "code",
      "source": [
        "# Ejemplo 1\n",
        "\n",
        "#==========================================================\n",
        "# usando los [] y dando valores para inicializar las listas\n",
        "#==========================================================\n",
        "\n",
        "dias_laborables = [\"Lunes\",\"Martes\",\"Miercoles\",\"Jueves\",\"Viernes\"]\n",
        "print(dias_laborables)\n",
        "\n",
        "colores_primarios = [\"Rojo\",\"Amarillo\",\"Azul\"]\n",
        "print(colores_primarios)\n",
        "\n",
        "precios = [205.30, 107.18, 25.450, 310.89, 170.23, 340]\n",
        "print(precios)\n",
        "print(type(precios))\n",
        "mezcolanza = [12 , \"octubre\" , 1492 , True ]\n",
        "lista_vacia = []\n",
        "\n",
        "\n",
        "#==========================================================\n",
        "# usando el constructor list[]\n",
        "#==========================================================\n",
        "\n",
        "lista_vacia_2 = list()\n",
        "lista_3 = list([0, 30, 2])\n",
        "print(lista_3)\n",
        "lista_4 = list(range(29,0,-2))\n",
        "print(lista_4)\n",
        "lista_5 = list(\"David Santiago\")\n",
        "print(lista_5)\n",
        "frase = \"David Santiago Macias Maldonado\"\n",
        "lista_6 = frase.split()\n",
        "print(lista_6)"
      ],
      "metadata": {
        "id": "9Duqbj2bGyhW"
      },
      "execution_count": null,
      "outputs": []
    },
    {
      "cell_type": "markdown",
      "source": [
        "## Operaciones\n",
        "\n",
        "### Operador +\n",
        "\n",
        "- concatenar o pegar los elementos de una lsita de otra.\n",
        "\n",
        "### Operador *\n",
        "\n",
        "- Repetir la secuencia de elementos de la lista tantas veces como lo indique el valor que acompaña el operador"
      ],
      "metadata": {
        "id": "O1QdDhe1Qveq"
      }
    },
    {
      "cell_type": "code",
      "source": [
        "dias_laborables = [\"Lunes\",\"Martes\",\"Miercoles\",\"Jueves\",\"Viernes\"]\n",
        "\n",
        "colores_primarios = [\"Rojo\",\"Amarillo\",\"Azul\"]\n",
        "\n",
        "precios = [205.30, 107.18, 25.450, 310.89, 170.23, 340]\n",
        "\n",
        "# acceso a los elementos de una lista\n",
        "\n",
        "print(dias_laborables[0])\n",
        "print(dias_laborables[-1])\n",
        "print(dias_laborables[-5])\n",
        "\n",
        "# operador +\n",
        "\n",
        "fin_semana = [\"sabado\",\"domingo\"]\n",
        "semana = dias_laborables + fin_semana\n",
        "print(semana)\n",
        "\n",
        "# operador *\n",
        "\n",
        "colores_repetidos = colores_primarios * 3\n",
        "print(colores_repetidos)\n"
      ],
      "metadata": {
        "id": "Tsz8v-KpRbAT"
      },
      "execution_count": null,
      "outputs": []
    },
    {
      "cell_type": "markdown",
      "source": [
        "## funciones asociadas a listas\n",
        "\n"
      ],
      "metadata": {
        "id": "pnj9Wm3bUGK0"
      }
    },
    {
      "cell_type": "code",
      "source": [
        "dias_laborables = [\"Lunes\",\"Martes\",\"Miercoles\",\"Jueves\",\"Viernes\"]\n",
        "\n",
        "colores_primarios = [\"Rojo\",\"Amarillo\",\"Azul\"]\n",
        "\n",
        "precios = [205.30, 107.18, 25, 450, 310.89, 170.23, 340]\n",
        "\n",
        "pares = lista_3 = list([0, 30, 2])\n",
        "print(lista_3)\n",
        "\n",
        "impares = lista_4 = list(range(29,0,-2))\n",
        "print(lista_4)\n",
        "\n",
        "colores_repetidos = colores_primarios * 3\n",
        "\n",
        "\n",
        "# append () : agrega un elemento al final de la lista\n",
        "dias_laborables.append(\"Sabado\")\n",
        "print(dias_laborables)\n",
        "\n",
        "# len(): total de elemntos de la lista\n",
        "print(\"Total de precios =\" , len(precios))\n",
        "dias_laborables = [\"Lunes\",\"Martes\",\"Miercoles\",\"Jueves\",\"Viernes\"]\n",
        "\n",
        "colores_primarios = [\"Rojo\",\"Amarillo\",\"Azul\"]\n",
        "\n",
        "precios = [205.30, 107.18, 25, 450, 310.89, 170.23, 340]\n",
        "\n",
        "pares = lista_3 = list([0, 30, 2])\n",
        "print(lista_3)\n",
        "\n",
        "impares = lista_4 = list(range(29,0,-2))\n",
        "print(lista_4)\n",
        "\n",
        "colores_repetidos = colores_primarios * 3\n",
        "\n",
        "\n",
        "# append () : agrega un elemento al final de la lista\n",
        "dias_laborables.append(\"Sabado\")\n",
        "print(dias_laborables)\n",
        "\n",
        "# len(): total de elemntos de la lista\n",
        "print(\"Total de precios =\" , len(precios))\n",
        "\n",
        "# count(): cuenta el numero de veces que aparece un elemento en la lista\n",
        "print(f\"El lunes aparece  {dias_laborables.count('Lunes')} vez(veces)\")\n",
        "\n",
        "# insert(): agrega en la pocision indicada por el indice el nuevo valor dezplasando los demas elementos hacia la derecha. si el indice es mayor del tamaño de la lista lo agrega al final\n",
        "colores_primarios.insert(2,\"Verde\")\n",
        "print(colores_primarios)\n",
        "\n",
        "# remove(): quita el elemento de la lista. si el elemento no esta lanza  una excepsion\n",
        "dias_laborables.remove(\"Sabado\")\n",
        "print(dias_laborables)\n",
        "\n",
        "# sort(): Ordena la lista de menor a mayor\n",
        "precios.sort()\n",
        "print(precios)\n",
        "\n",
        "precios.sort(reverse=True)\n",
        "print(precios)\n",
        "\n",
        "# reverse():\n",
        "dias_laborables.reverse()\n",
        "print(dias_laborables)\n",
        "\n",
        "# pop():\n",
        "colores_primarios.pop(1)\n",
        "print(colores_primarios)\n",
        "\n",
        "# clear():\n",
        "precios.clear()\n",
        "print(precios)\n",
        "\n",
        "# del():\n",
        "del dias_laborables[0]\n",
        "print(dias_laborables)"
      ],
      "metadata": {
        "id": "61DAtr8OUVQA"
      },
      "execution_count": null,
      "outputs": []
    },
    {
      "cell_type": "markdown",
      "source": [
        "## particion o divizion de listas(slicing o rebanadas)\n",
        "\n",
        "- se pueden generar sublistas a partir de una lista por medio de la particion(division o slicing)\n",
        "- para obtener una sublista s usa la sintaxis: ```sublista = lista[inicio:fin:n]```"
      ],
      "metadata": {
        "id": "tdKPEg0uf484"
      }
    },
    {
      "cell_type": "code",
      "source": [
        "# se crea una lista de numeros enteros\n",
        "lista_1 =[1,2,3,4,5,6]\n",
        "\n",
        "\n",
        "# sublistaa con los elementos de las pocisiones 0 a la 2 inclusive\n",
        "sublista_1 = lista_1[0:3]\n",
        "print(sublista_1)\n",
        "\n",
        "\n",
        "\n",
        "\n",
        "# sublista con los elementos de las pocisiones 0 a la 3 inclusive\n",
        "sublista_2 = lista_1[:4]\n",
        "print(sublista_2)\n",
        "# se crea una lista de numeros enteros\n",
        "lista_1 =[1,2,3,4,5,6]\n",
        "\n",
        "\n",
        "# sublistaa con los elementos de las pocisiones 0 a la 2 inclusive\n",
        "sublista_1 = lista_1[0:3]\n",
        "print(sublista_1)\n",
        "\n",
        "\n",
        "\n",
        "\n",
        "# sublista con los elementos de las pocisiones 0 a la 3 inclusive\n",
        "sublista_2 = lista_1[:4]\n",
        "print(sublista_2)\n",
        "\n",
        "# sublista con los elementos de las pocisiones 3 a la 5 inclusive\n",
        "sublista_3 = lista_1[3:5]\n",
        "print(sublista_3)\n",
        "\n",
        "# sublista con los elementos desde el inicio hasta el final, con saltos de a 2.\n",
        "sublista_4 = lista_1[::2]\n",
        "print(sublista_4)\n"
      ],
      "metadata": {
        "colab": {
          "base_uri": "https://localhost:8080/"
        },
        "id": "woPnR48sgjeu",
        "outputId": "4901cd3b-ba71-4645-9feb-79d237177045"
      },
      "execution_count": 58,
      "outputs": [
        {
          "output_type": "stream",
          "name": "stdout",
          "text": [
            "[1, 2, 3]\n",
            "[1, 2, 3, 4]\n",
            "[1, 2, 3]\n",
            "[1, 2, 3, 4]\n",
            "[4, 5]\n",
            "[1, 3, 5]\n"
          ]
        }
      ]
    }
  ]
}